{
 "cells": [
  {
   "cell_type": "code",
   "execution_count": 1,
   "id": "6f3087a3",
   "metadata": {},
   "outputs": [],
   "source": [
    "##Import Random to shuflle numbers\n",
    "import random "
   ]
  },
  {
   "cell_type": "code",
   "execution_count": 2,
   "id": "8f4d276a",
   "metadata": {},
   "outputs": [],
   "source": [
    "game_on = True"
   ]
  },
  {
   "cell_type": "code",
   "execution_count": 7,
   "id": "c072e504",
   "metadata": {},
   "outputs": [
    {
     "name": "stdout",
     "output_type": "stream",
     "text": [
      "Give a max number: 6\n",
      "Game Starts\n",
      "Guess the number 1 -64\n",
      "Try again 1\n",
      "Guess the number 1 -63\n",
      "Try again 2\n",
      "Guess the number 1 -62\n",
      "Try again 3\n",
      "Guess the number 1 -61\n",
      "Try again 4\n",
      "Guess the number 1 -66\n",
      "Correct!! You Win!\n"
     ]
    }
   ],
   "source": [
    "while game_on:\n",
    "    \n",
    "    num = input('Give a max number: ')\n",
    "    if num.isdigit():\n",
    "        print('Game Starts')\n",
    "        num = int(num)\n",
    "        game_on = False\n",
    "\n",
    "\n",
    "    else:\n",
    "        print('Wrong Selection! Try again!')\n",
    "\n",
    "        \n",
    "hidden_num = random.randint(1,num)\n",
    "count = 0\n",
    "guess = None\n",
    "\n",
    "while guess != hidden_num:\n",
    "    guess = int(input(f'Guess the number 1 -{num}'))\n",
    "\n",
    "    if guess == hidden_num:\n",
    "        print('Correct!! You Win!')\n",
    "        break\n",
    "\n",
    "    else:\n",
    "        count += 1\n",
    "        print(f'Try again {count}')\n",
    "\n",
    "\n",
    "\n",
    "\n",
    "\n",
    "       "
   ]
  },
  {
   "cell_type": "code",
   "execution_count": null,
   "id": "e3972976",
   "metadata": {},
   "outputs": [],
   "source": []
  }
 ],
 "metadata": {
  "kernelspec": {
   "display_name": "Python 3 (ipykernel)",
   "language": "python",
   "name": "python3"
  },
  "language_info": {
   "codemirror_mode": {
    "name": "ipython",
    "version": 3
   },
   "file_extension": ".py",
   "mimetype": "text/x-python",
   "name": "python",
   "nbconvert_exporter": "python",
   "pygments_lexer": "ipython3",
   "version": "3.9.12"
  }
 },
 "nbformat": 4,
 "nbformat_minor": 5
}
